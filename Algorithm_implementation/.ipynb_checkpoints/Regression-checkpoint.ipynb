{
 "cells": [
  {
   "cell_type": "code",
   "execution_count": 1,
   "metadata": {
    "collapsed": true
   },
   "outputs": [],
   "source": [
    "__autho__ = 'Yao'\n",
    "import numpy as np\n",
    "import pandas as pd\n",
    "import pylab"
   ]
  },
  {
   "cell_type": "code",
   "execution_count": 17,
   "metadata": {},
   "outputs": [
    {
     "data": {
      "text/plain": [
       "1"
      ]
     },
     "execution_count": 17,
     "metadata": {},
     "output_type": "execute_result"
    }
   ],
   "source": [
    "test = np.array([[1,2],[3,4],[5,6],[7,8],[9,10]])\n",
    "a = test[:,0]    ## This will get all x\n",
    "b = test[:,1]    ## This will get al y , and they are all array objects\n",
    "c = a - b\n",
    "c = np.sum(c)\n",
    "c = [1,2]\n",
    "e,f = c  # That works ,how fantanstic!"
   ]
  },
  {
   "cell_type": "code",
   "execution_count": 12,
   "metadata": {},
   "outputs": [],
   "source": [
    "# First function compute_error will return the sum error of the choosing m,b\n",
    "def compute_error(m,b,data):\n",
    "    x = data[:,0]\n",
    "    y = data[:,1]\n",
    "    error = (y - (x*m+b))**2\n",
    "    sum_error = np.sum(error)\n",
    "    return sum_error/float(len(data))\n"
   ]
  },
  {
   "cell_type": "code",
   "execution_count": 21,
   "metadata": {},
   "outputs": [],
   "source": [
    "def compute_gardient(b_current,m_current,data,learning_rate):\n",
    "    N = len(data)\n",
    "    x = data[:,0]\n",
    "    y = data[:,1]\n",
    "    b_gardient = (-2/N) * (y - (m_current*x + b_current))\n",
    "    b_gardient = np.sum(b_gardient)\n",
    "    m_gardient = (-2/N) * x * (y - (m_current * x + b_current))\n",
    "    m_gardient = np.sum(m_gardient)\n",
    "    new_b = b_current - (b_gardient * learning_rate)  ##  That must be \"-\"\n",
    "    new_m = m_current - (m_gardient * learning_rate)  ## 并不是值去减去值的倒数，而是梯度给出了方向，只是利用了方向而已！\n",
    "    return [new_b, new_m]"
   ]
  },
  {
   "cell_type": "code",
   "execution_count": 22,
   "metadata": {
    "collapsed": true
   },
   "outputs": [],
   "source": [
    "def optimizer(b_start, m_start, data, learning_rate, iter_num):\n",
    "    b = b_start\n",
    "    m = m_start\n",
    "    for a in range(iter_num):\n",
    "        b, m = compute_gardient(b, m, data, learning_rate)\n",
    "        if a % 100 ==0:\n",
    "            print(compute_error(m, b, data))\n",
    "    return [b, m] "
   ]
  },
  {
   "cell_type": "code",
   "execution_count": 23,
   "metadata": {
    "collapsed": true
   },
   "outputs": [],
   "source": [
    "def plot_data(m, b, data):\n",
    "    x = data[:,0]\n",
    "    y = data[:,1]\n",
    "    l_predict = m*x + b\n",
    "    pylab.plot(x,y,'o')\n",
    "    pylab.plot(x, l_predict,'k')\n",
    "    pylab.show()"
   ]
  },
  {
   "cell_type": "code",
   "execution_count": 29,
   "metadata": {},
   "outputs": [
    {
     "name": "stdout",
     "output_type": "stream",
     "text": [
      "10.6517527445\n",
      "1.99633319152\n",
      "1.59807205395\n",
      "1.43757571209\n",
      "0.812736663284 1.92368833241\n"
     ]
    },
    {
     "data": {
      "image/png": "[encoded data removed]",
      "text/plain": [
       "<matplotlib.figure.Figure at 0x238c7561be0>"
      ]
     },
     "metadata": {},
     "output_type": "display_data"
    }
   ],
   "source": [
    "# Linear regression\n",
    "\n",
    "start_m = -2\n",
    "start_b = -2\n",
    "learning_rate = 0.01\n",
    "iter_num = 400\n",
    "data = np.loadtxt('data.csv', delimiter = ',')\n",
    "b, m =optimizer(start_b, start_m, data, learning_rate, iter_num)\n",
    "print(b,m)\n",
    "plot_data(m, b, data)"
   ]
  }
 ],
 "metadata": {
  "kernelspec": {
   "display_name": "Python 3",
   "language": "python",
   "name": "python3"
  },
  "language_info": {
   "codemirror_mode": {
    "name": "ipython",
    "version": 3
   },
   "file_extension": ".py",
   "mimetype": "text/x-python",
   "name": "python",
   "nbconvert_exporter": "python",
   "pygments_lexer": "ipython3",
   "version": "3.6.3"
  }
 },
 "nbformat": 4,
 "nbformat_minor": 2
}
