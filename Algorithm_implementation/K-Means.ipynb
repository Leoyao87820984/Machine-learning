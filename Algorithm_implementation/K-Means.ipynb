{
 "cells": [
  {
   "cell_type": "code",
   "execution_count": 37,
   "metadata": {},
   "outputs": [
    {
     "data": {
      "image/png": "[encoded data removed]",
      "text/plain": [
       "<matplotlib.figure.Figure at 0x20bb3c00e80>"
      ]
     },
     "metadata": {},
     "output_type": "display_data"
    },
    {
     "data": {
      "text/plain": [
       "array([ 1.5,  1.8])"
      ]
     },
     "execution_count": 37,
     "metadata": {},
     "output_type": "execute_result"
    }
   ],
   "source": [
    "import matplotlib.pyplot as plt\n",
    "from matplotlib import style\n",
    "style.use('ggplot')   ## Just to have a better view.\n",
    "import numpy as np\n",
    "\n",
    "X = np.array([[1,2],\n",
    "             [1.5,1.8],\n",
    "             [5,8],\n",
    "             [8,8],\n",
    "             [1,0.6],\n",
    "             [9,11]])\n",
    "plt.scatter(X[:,0],X[:,1],s=50)\n",
    "plt.show()\n",
    "\n",
    "colors = 10*[\"g\",\"r\",\"c\",\"b\",\"k\"]\n",
    "X[1]"
   ]
  },
  {
   "cell_type": "code",
   "execution_count": 66,
   "metadata": {},
   "outputs": [
    {
     "name": "stdout",
     "output_type": "stream",
     "text": [
      "{0: array([ 1.,  2.]), 1: array([ 1.5,  1.8])}\n",
      "{0: array([ 1.,  2.]), 1: array([ 1.5,  1.8])}\n",
      "{0: array([ 1.,  2.]), 1: array([ 4.9 ,  5.88])}\n",
      "{0: array([ 1.,  2.]), 1: array([ 4.9 ,  5.88])}\n",
      "{0: array([ 1.16666667,  1.46666667]), 1: array([ 7.33333333,  9.        ])}\n",
      "{0: array([ 1.16666667,  1.46666667]), 1: array([ 7.33333333,  9.        ])}\n"
     ]
    }
   ],
   "source": [
    "class K_Means:\n",
    "    def __init__(self,k=2,tol=0.001,max_iter=300):\n",
    "        self.k = k\n",
    "        self.tol = tol\n",
    "        self.max_iter = max_iter\n",
    "    \n",
    "    def fit(self,data):\n",
    "        \n",
    "        self.centroids ={}\n",
    "        \n",
    "        for i in range(self.k):\n",
    "            self.centroids[i] = data[i]\n",
    "            \n",
    "        for i in range(self.max_iter):\n",
    "            self.classifications ={}\n",
    "            \n",
    "            for i in range(self.k):\n",
    "                self.classifications[i] = []\n",
    "            \n",
    "            for featureset in data :\n",
    "                distances = [np.linalg.norm(featureset-self.centroids[centroid]) for centroid in self.centroids]\n",
    "                classifications = distances.index(min(distances))\n",
    "                self.classifications[classifications].append(featureset)\n",
    "            print(self.centroids)    \n",
    "            prev_centroids = dict(self.centroids)\n",
    "            print(prev_centroids)\n",
    "            for classification in self.classifications:\n",
    "                self.centroids[classification] = np.average(self.classifications[classification],axis=0)\n",
    "            \n",
    "            optimized = True\n",
    "            \n",
    "            for c in self.centroids:\n",
    "                original_centroid = prev_centroids[c]\n",
    "                current_centroid = self.centroids[c]\n",
    "                if np.sum((current_centroid-original_centroid)/original_centroid*100)>self.tol:\n",
    "                    optimized = False\n",
    "                \n",
    "            if optimized:\n",
    "                break\n",
    "    \n",
    "    def predict(self,data):\n",
    "        distances = [np.linalg.norm(data-self.centroids[centroid]) for centroid in self.centroids]\n",
    "        classification = distances.index(min(distances))\n",
    "        return classification\n",
    "\n",
    "clf = K_Means()\n",
    "clf.fit(X)\n",
    "\n",
    "for centroid in clf.centroids:\n",
    "    plt.scatter(clf.centroids[centroid][0],clf.centroids[centroid][1],\n",
    "               marker=\"o\",color=\"k\",s=150,linewidths=5)\n",
    "\n",
    "for classification in clf.classifications:\n",
    "    color = colors[classification]\n",
    "    for featureset in clf.classifications[classification]:\n",
    "        plt.scatter(featureset[0],featureset[1],marker=\"x\",color = color,s = 150,linewidths=5)\n",
    "    "
   ]
  },
  {
   "cell_type": "code",
   "execution_count": 55,
   "metadata": {},
   "outputs": [
    {
     "data": {
      "image/png": "[encoded data removed]",
      "text/plain": [
       "<matplotlib.figure.Figure at 0x20bb41c60f0>"
      ]
     },
     "metadata": {},
     "output_type": "display_data"
    }
   ],
   "source": [
    "plt.show()"
   ]
  },
  {
   "cell_type": "code",
   "execution_count": 79,
   "metadata": {},
   "outputs": [
    {
     "name": "stdout",
     "output_type": "stream",
     "text": [
      "6\n",
      "{1: 1, 2: 2, 3: 3, 4: 4}\n",
      "{1: 1, 2: 2, 3: 3, 4: 4, 5: 5}\n",
      "{1: 1, 2: 2, 3: 3, 4: 4}\n",
      "{1: 1, 2: 2, 3: 3, 4: 4, 5: 5}\n",
      "foo\n",
      "{'bar': 'foo'}\n",
      "{'bar': 'foo'}\n"
     ]
    }
   ],
   "source": [
    "something = [6,7,3,4,5]\n",
    "something.index(min(something))\n",
    "another = {1:1,2:2,3:3,4:4}\n",
    "#print(another['a'])\n",
    "print(something[0])\n",
    "c = another\n",
    "b = dict(another)\n",
    "print(another)\n",
    "another[5] = 5\n",
    "print(another)\n",
    "print(b)\n",
    "print(c)\n",
    "## Which means dictionnery is actually the list with given index\n",
    "## For more simple: mutable types: list,dict, which will never create a new space for them. \n",
    "## And immutable things like str,int,tuple which will create new space every time it changes\n",
    "test1 = 5\n",
    "test2 = test1\n",
    "test1 +=1\n",
    "test2\n",
    "\n",
    "a = \"foo\"  # `a` is the name of the string \"foo\" \n",
    "print(a)\n",
    "b = {\"bar\": a}  # evaluate the new dictionary and name it `b`.  `a` is looked up and returns \"foo\" in this calculation\n",
    "print(b)\n",
    "a = \"bar\"  # give \n",
    "print(b)"
   ]
  }
 ],
 "metadata": {
  "kernelspec": {
   "display_name": "Python 3",
   "language": "python",
   "name": "python3"
  },
  "language_info": {
   "codemirror_mode": {
    "name": "ipython",
    "version": 3
   },
   "file_extension": ".py",
   "mimetype": "text/x-python",
   "name": "python",
   "nbconvert_exporter": "python",
   "pygments_lexer": "ipython3",
   "version": "3.6.3"
  }
 },
 "nbformat": 4,
 "nbformat_minor": 2
}
