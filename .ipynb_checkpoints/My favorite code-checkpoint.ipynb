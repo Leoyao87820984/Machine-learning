{
 "cells": [
  {
   "cell_type": "markdown",
   "metadata": {},
   "source": [
    "# 1. Preparing part"
   ]
  },
  {
   "cell_type": "code",
   "execution_count": 2,
   "metadata": {},
   "outputs": [],
   "source": [
    "import pandas as pd\n",
    "import numpy as np\n",
    "pd.options.display.max_rows =10\n"
   ]
  },
  {
   "cell_type": "markdown",
   "metadata": {},
   "source": [
    "## 1.1 Array can contain anything."
   ]
  },
  {
   "cell_type": "code",
   "execution_count": 3,
   "metadata": {},
   "outputs": [
    {
     "data": {
      "text/html": [
       "<div>\n",
       "<style>\n",
       "    .dataframe thead tr:only-child th {\n",
       "        text-align: right;\n",
       "    }\n",
       "\n",
       "    .dataframe thead th {\n",
       "        text-align: left;\n",
       "    }\n",
       "\n",
       "    .dataframe tbody tr th {\n",
       "        vertical-align: top;\n",
       "    }\n",
       "</style>\n",
       "<table border=\"1\" class=\"dataframe\">\n",
       "  <thead>\n",
       "    <tr style=\"text-align: right;\">\n",
       "      <th></th>\n",
       "      <th>A</th>\n",
       "      <th>B</th>\n",
       "      <th>C</th>\n",
       "    </tr>\n",
       "  </thead>\n",
       "  <tbody>\n",
       "    <tr>\n",
       "      <th>0</th>\n",
       "      <td>1</td>\n",
       "      <td>2</td>\n",
       "      <td>3</td>\n",
       "    </tr>\n",
       "    <tr>\n",
       "      <th>1</th>\n",
       "      <td>4</td>\n",
       "      <td>5</td>\n",
       "      <td>6</td>\n",
       "    </tr>\n",
       "    <tr>\n",
       "      <th>2</th>\n",
       "      <td>7</td>\n",
       "      <td>8</td>\n",
       "      <td>9</td>\n",
       "    </tr>\n",
       "    <tr>\n",
       "      <th>3</th>\n",
       "      <td>1</td>\n",
       "      <td>2</td>\n",
       "      <td>3</td>\n",
       "    </tr>\n",
       "    <tr>\n",
       "      <th>4</th>\n",
       "      <td>4</td>\n",
       "      <td>5</td>\n",
       "      <td>6</td>\n",
       "    </tr>\n",
       "    <tr>\n",
       "      <th>5</th>\n",
       "      <td>7</td>\n",
       "      <td>8</td>\n",
       "      <td>9</td>\n",
       "    </tr>\n",
       "  </tbody>\n",
       "</table>\n",
       "</div>"
      ],
      "text/plain": [
       "   A  B  C\n",
       "0  1  2  3\n",
       "1  4  5  6\n",
       "2  7  8  9\n",
       "3  1  2  3\n",
       "4  4  5  6\n",
       "5  7  8  9"
      ]
     },
     "execution_count": 3,
     "metadata": {},
     "output_type": "execute_result"
    }
   ],
   "source": [
    "test = []\n",
    "test1 = pd.DataFrame([[1,2,3],[4,5,6],[7,8,9]],index=['a','b','c'],columns=['A','B','C'])\n",
    "test2 = pd.DataFrame([[1,2,3],[4,5,6],[7,8,9]],index=['a','b','c'],columns=['A','B','C'])\n",
    "test.append(test1)\n",
    "test.append(test2)\n",
    "test_final = pd.concat(test,ignore_index=True)\n",
    "test_final"
   ]
  },
  {
   "cell_type": "markdown",
   "metadata": {},
   "source": [
    "# 2. Get counts"
   ]
  },
  {
   "cell_type": "code",
   "execution_count": 4,
   "metadata": {},
   "outputs": [
    {
     "name": "stdout",
     "output_type": "stream",
     "text": [
      "{'Leo': 2, 'yao': 3, 'aa': 1, 'bb': 1, 'cc': 1, 'dd': 2, 'ee': 1, 'uu': 2, 'oo': 4}\n",
      "[('oo', 4), ('uu', 2), ('yao', 3)]\n"
     ]
    }
   ],
   "source": [
    "def get_counts(anything):\n",
    "    counts = {}\n",
    "    for a in anything:\n",
    "        if a in counts:\n",
    "            counts[a] = counts[a] + 1\n",
    "        else:\n",
    "            counts[a] = 1\n",
    "    return counts\n",
    "\n",
    "test = ['Leo','Leo','yao','yao','yao','aa','bb','cc','dd','dd','ee','uu','uu','oo','oo','oo','oo']\n",
    "print(get_counts(test))\n",
    "counts_dic = get_counts(test)\n",
    "def top_counts(counts_dic,top):\n",
    "    key_paires = [(a,b) for a,b in counts_dic.items()]\n",
    "    key_paires.sort()\n",
    "    return key_paires[-top:]\n",
    "print(top_counts(counts_dic, 3))"
   ]
  },
  {
   "cell_type": "markdown",
   "metadata": {},
   "source": [
    "# 3. Quantitative"
   ]
  },
  {
   "cell_type": "markdown",
   "metadata": {},
   "source": [
    "### 3.1 The use of set"
   ]
  },
  {
   "cell_type": "code",
   "execution_count": 19,
   "metadata": {},
   "outputs": [
    {
     "name": "stdout",
     "output_type": "stream",
     "text": [
      "{1, 2, 3, 4}\n",
      "{'a': 3, 'b': 4}\n",
      "{0, 1, 2, 3, 4, 5, 6, 7, 8, 9}\n"
     ]
    }
   ],
   "source": [
    "print(set([1,2,3,3,4])) ## set will return a dictionnery without values\n",
    "dic = {'a':1,'a':3,'b':4}\n",
    "print(dic) ## Here we can see an attribute in dictionnery is that it will never have duplicate index\n",
    "\n",
    "a1 = set([1,2,3,4,5])\n",
    "b1 = set([5,6,67,7,9])\n",
    "a1&b1   \n",
    "a1|b1   #Thats what set can do: operations of sets\n",
    "l1 = [1,2,3,3,4,5,7,8,9,0,1,2,3,6]\n",
    "print(set(l1))   # Or we can use set to get a non-duplicate list\n"
   ]
  },
  {
   "cell_type": "markdown",
   "metadata": {},
   "source": [
    "### 3.2 What map returns"
   ]
  },
  {
   "cell_type": "code",
   "execution_count": 28,
   "metadata": {},
   "outputs": [
    {
     "name": "stdout",
     "output_type": "stream",
     "text": [
      "<map object at 0x000001EB6EA37518>\n"
     ]
    },
    {
     "data": {
      "text/plain": [
       "[2, 6, 10, 14, 18]"
      ]
     },
     "execution_count": 28,
     "metadata": {},
     "output_type": "execute_result"
    }
   ],
   "source": [
    "l2 = [1,3,5,7,9]\n",
    "l3 = map(lambda x:2*x,l2)\n",
    "print(l3) # Map returns a map object\n",
    "list(l3)   # What list() needs is a iterable thing and returns a list"
   ]
  },
  {
   "cell_type": "markdown",
   "metadata": {},
   "source": [
    "### 3.3 Generators and iterators"
   ]
  },
  {
   "cell_type": "code",
   "execution_count": 69,
   "metadata": {},
   "outputs": [
    {
     "name": "stdout",
     "output_type": "stream",
     "text": [
      "[0, 1, 2, 3, 4]\n",
      "[0, 1, 2, 3, 4]\n"
     ]
    },
    {
     "data": {
      "text/plain": [
       "<generator object <genexpr> at 0x000001EB6EAADA40>"
      ]
     },
     "execution_count": 69,
     "metadata": {},
     "output_type": "execute_result"
    }
   ],
   "source": [
    "## In python , who can have __iter__() and next() will be called a iterator \n",
    "## which returns the iterator itself and the next elenments in the iterator\n",
    "## By the way in the function next(), it will raise StopIteration at the end.\n",
    "class My_range(object):\n",
    "    def __init__(self,n):\n",
    "        self.index = 0\n",
    "        self.n = n\n",
    "    def __iter__(self):\n",
    "        return self\n",
    "    def __next__(self):\n",
    "        if self.index < self.n:\n",
    "            val = self.index\n",
    "            self.index+=1\n",
    "            return val\n",
    "        else:\n",
    "            raise StopIteration\n",
    "    \n",
    "a = My_range(5)\n",
    "print(list(a))    ### Congratulations! You've got a iterable class now!\n",
    "\n",
    "\n",
    "\n",
    "## Actually generator is kind of iterator\n",
    "def Another_range(n):\n",
    "    i = 0\n",
    "    while i < n:\n",
    "        yield i\n",
    "        i+=1\n",
    "c = Another_range(5)\n",
    "print(list(c))       ### Congratulations ! Another iterable function!\n",
    "\n",
    "[i for i in range(10) if i%2 ==0]\n",
    "print((i for i in range(10) if i%2 ==0)) ## It returns a genetator object which is very alike what Another_range does\n"
   ]
  },
  {
   "cell_type": "code",
   "execution_count": 1,
   "metadata": {
    "collapsed": true
   },
   "outputs": [],
   "source": [
    "def handle_non_numerical_data(df):\n",
    "    columns = df.columns.values\n",
    "\n",
    "    for column in columns:\n",
    "        text_digit_vals = {}\n",
    "        def convert_to_int(val):\n",
    "            return text_digit_vals[val]\n",
    "        if df[column].dtype != np.int64 and df[column].dtype != np.float64:\n",
    "            column_contents = df[column].values.tolist()\n",
    "            unique_elements = set(column_contents)\n",
    "            x = 0\n",
    "            for unique in unique_elements:\n",
    "                if unique not in text_digit_vals:\n",
    "                    text_digit_vals[unique] = x\n",
    "                    x+=1\n",
    "            df[column] = list(map(convert_to_int,df[column]))\n",
    "    return df"
   ]
  }
 ],
 "metadata": {
  "kernelspec": {
   "display_name": "Python 3",
   "language": "python",
   "name": "python3"
  },
  "language_info": {
   "codemirror_mode": {
    "name": "ipython",
    "version": 3
   },
   "file_extension": ".py",
   "mimetype": "text/x-python",
   "name": "python",
   "nbconvert_exporter": "python",
   "pygments_lexer": "ipython3",
   "version": "3.6.3"
  }
 },
 "nbformat": 4,
 "nbformat_minor": 2
}
