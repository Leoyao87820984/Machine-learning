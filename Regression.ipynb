{
 "cells": [
  {
   "cell_type": "code",
   "execution_count": 13,
   "metadata": {},
   "outputs": [],
   "source": [
    "__author__ = 'Yao'\n",
    "import numpy as np\n",
    "import pylab\n",
    "\n",
    "def compute_error(b,m,data):\n",
    "    totalError = 0\n",
    "    x = data[:,0]\n",
    "    y = data[:,1]\n",
    "    totalError = (y-m*x-b)**2\n",
    "    totalError = np.sum(totalError,axis = 0)\n",
    "    return totalError/float(len(data))\n",
    "\n",
    "def optimizer(data,starting_b,starting_m,learning_rate,num_iter):\n",
    "    b = starting_b\n",
    "    m = starting_m\n",
    "    for i in range(num_iter):\n",
    "        b,m = compute_gradient(b,m,data,learning_rate)\n",
    "        if i%100 == 0:\n",
    "            print(compute_error(b,m,data))\n",
    "    return [b,m]\n",
    "\n",
    "def compute_gradient(b_current,m_current,data,learning_rate):\n",
    "    b_gradient = 0\n",
    "    m_gradient = 0\n",
    "    \n",
    "    N = float(len(data))\n",
    "    x = data[:,0]\n",
    "    y = data[:,1]\n",
    "    b_gradient = -(2/N)*(y-m_current*x-b_current)\n",
    "    b_gradient = np.sum(b_gradient,axis = 0)\n",
    "    m_gradient = -(2/N)*x*(y-m_current*x-b_current)\n",
    "    m_gradient = np.sum(m_gradient,axis = 0)\n",
    "    \n",
    "    new_b = b_current - (learning_rate * b_gradient)\n",
    "    new_m = m_current - (learning_rate * m_gradient)\n",
    "    return [new_b,new_m]\n",
    "\n"
   ]
  },
  {
   "cell_type": "code",
   "execution_count": 6,
   "metadata": {
    "collapsed": true
   },
   "outputs": [],
   "source": [
    "def plot_data(data,b,m):\n",
    "    x = data[:,0]\n",
    "    y = data[:,1]\n",
    "    y_predict = m*x +b\n",
    "    pylab.plot(x,y,'o')\n",
    "    pylab.plot(x,y_predict,'k-')\n",
    "    pylab.show()"
   ]
  },
  {
   "cell_type": "code",
   "execution_count": 15,
   "metadata": {},
   "outputs": [
    {
     "name": "stdout",
     "output_type": "stream",
     "text": [
      "153.094997127\n",
      "1.53369990499\n",
      "1.51597082029\n",
      "1.49977979233\n",
      "1.4849926328\n",
      "1.47148761711\n",
      "1.45915357495\n",
      "1.44788897524\n",
      "1.43760109029\n",
      "1.42820523253\n",
      "0.623511650513 1.94872791683\n"
     ]
    },
    {
     "data": {
      "image/png": "[encoded data removed]",
      "text/plain": [
       "<matplotlib.figure.Figure at 0x1ed7c407240>"
      ]
     },
     "metadata": {},
     "output_type": "display_data"
    }
   ],
   "source": [
    "def Linear_regression():\n",
    "    data = np.loadtxt('data.csv',delimiter=',')\n",
    "    \n",
    "    learning_rate = 0.001\n",
    "    initial_b = 0.0\n",
    "    initial_m = 0.0\n",
    "    num_iter = 1000\n",
    "    \n",
    "    [b,m] = optimizer(data,initial_b,initial_m,learning_rate,num_iter)\n",
    "    print(b,m)\n",
    "    plot_data(data,b,m)\n",
    "\n",
    "Linear_regression()"
   ]
  }
 ],
 "metadata": {
  "kernelspec": {
   "display_name": "Python 3",
   "language": "python",
   "name": "python3"
  },
  "language_info": {
   "codemirror_mode": {
    "name": "ipython",
    "version": 3
   },
   "file_extension": ".py",
   "mimetype": "text/x-python",
   "name": "python",
   "nbconvert_exporter": "python",
   "pygments_lexer": "ipython3",
   "version": "3.6.3"
  }
 },
 "nbformat": 4,
 "nbformat_minor": 2
}
